{
 "cells": [
  {
   "cell_type": "markdown",
   "id": "occupational-branch",
   "metadata": {},
   "source": [
    "# Binary & Multi-Class Classification Demonstrations\n",
    "\n",
    "As a clothing retailer with an e-Commerce presence, it's important for us to understand what customers are saying about our products, which products are most popular with our customers, and how we can improve our offerings.\n",
    "\n"
   ]
  },
  {
   "cell_type": "markdown",
   "id": "a2ce8ae6",
   "metadata": {},
   "source": [
    "## Binary Classifcation\n",
    "\n",
    "**Recommendation Prediction**: We will use the text from customer reviewsto understand better if a customer will give a positive rating on the clothing items based on their review."
   ]
  },
  {
   "cell_type": "code",
   "execution_count": 1,
   "id": "photographic-syntax",
   "metadata": {},
   "outputs": [],
   "source": [
    "# Gereral Imports\n",
    "import numpy as np\n",
    "import pandas as pd\n",
    "import re\n",
    "import string\n",
    "from collections import Counter\n",
    "from timeit import timeit\n",
    "import warnings\n",
    "warnings.filterwarnings('ignore')\n",
    "\n",
    "# Machine Learning Imports\n",
    "from sklearn.model_selection import train_test_split\n",
    "from sklearn.metrics import ConfusionMatrixDisplay\n",
    "from sklearn.feature_extraction.text import TfidfVectorizer\n",
    "from sklearn import metrics \n",
    "from sklearn.model_selection import cross_val_score\n",
    "from sklearn.model_selection import RepeatedStratifiedKFold\n",
    "from sklearn.linear_model import LogisticRegression\n",
    "from sklearn.ensemble import RandomForestClassifier\n",
    "from sklearn.preprocessing import MinMaxScaler\n",
    "from sklearn.compose import ColumnTransformer\n",
    "from sklearn.pipeline import Pipeline\n",
    "from sklearn.preprocessing import MultiLabelBinarizer\n",
    "from sklearn.compose import ColumnTransformer\n",
    "from sklearn.multiclass import OneVsRestClassifier\n",
    "\n",
    "# XGBoost\n",
    "import xgboost as xgb\n",
    "\n",
    "# Model Persistence Imports\n",
    "from joblib import dump, load\n",
    "\n",
    "# Test Processing Imports\n",
    "import nltk\n",
    "from nltk import word_tokenize\n",
    "from nltk.stem import PorterStemmer\n",
    "\n",
    "# SMOTE Imports\n",
    "from imblearn.over_sampling import SMOTE\n",
    "from imblearn.under_sampling import RandomUnderSampler\n",
    "from imblearn.pipeline import Pipeline\n",
    "\n",
    "# Plotting Imports\n",
    "import matplotlib.pyplot as plt\n",
    "%matplotlib inline"
   ]
  },
  {
   "cell_type": "markdown",
   "id": "veterinary-belle",
   "metadata": {},
   "source": [
    "# Preprocessing & EDA\n",
    "\n",
    "Importing our dataset and providing the necessary cleaning and analysis."
   ]
  },
  {
   "cell_type": "code",
   "execution_count": 2,
   "id": "fatal-rouge",
   "metadata": {},
   "outputs": [
    {
     "data": {
      "text/html": [
       "<div>\n",
       "<style scoped>\n",
       "    .dataframe tbody tr th:only-of-type {\n",
       "        vertical-align: middle;\n",
       "    }\n",
       "\n",
       "    .dataframe tbody tr th {\n",
       "        vertical-align: top;\n",
       "    }\n",
       "\n",
       "    .dataframe thead th {\n",
       "        text-align: right;\n",
       "    }\n",
       "</style>\n",
       "<table border=\"1\" class=\"dataframe\">\n",
       "  <thead>\n",
       "    <tr style=\"text-align: right;\">\n",
       "      <th></th>\n",
       "      <th>Age</th>\n",
       "      <th>Title</th>\n",
       "      <th>Review Text</th>\n",
       "      <th>Rating</th>\n",
       "      <th>Recommended IND</th>\n",
       "      <th>Positive Feedback Count</th>\n",
       "      <th>Department Name</th>\n",
       "      <th>Class Name</th>\n",
       "    </tr>\n",
       "  </thead>\n",
       "  <tbody>\n",
       "    <tr>\n",
       "      <th>0</th>\n",
       "      <td>33</td>\n",
       "      <td>NaN</td>\n",
       "      <td>Absolutely wonderful - silky and sexy and comf...</td>\n",
       "      <td>4</td>\n",
       "      <td>1</td>\n",
       "      <td>0</td>\n",
       "      <td>Intimate</td>\n",
       "      <td>Intimates</td>\n",
       "    </tr>\n",
       "    <tr>\n",
       "      <th>1</th>\n",
       "      <td>34</td>\n",
       "      <td>NaN</td>\n",
       "      <td>Love this dress!  it's sooo pretty.  i happene...</td>\n",
       "      <td>5</td>\n",
       "      <td>1</td>\n",
       "      <td>4</td>\n",
       "      <td>Dresses</td>\n",
       "      <td>Dresses</td>\n",
       "    </tr>\n",
       "    <tr>\n",
       "      <th>2</th>\n",
       "      <td>60</td>\n",
       "      <td>Some major design flaws</td>\n",
       "      <td>I had such high hopes for this dress and reall...</td>\n",
       "      <td>3</td>\n",
       "      <td>0</td>\n",
       "      <td>0</td>\n",
       "      <td>Dresses</td>\n",
       "      <td>Dresses</td>\n",
       "    </tr>\n",
       "    <tr>\n",
       "      <th>3</th>\n",
       "      <td>50</td>\n",
       "      <td>My favorite buy!</td>\n",
       "      <td>I love, love, love this jumpsuit. it's fun, fl...</td>\n",
       "      <td>5</td>\n",
       "      <td>1</td>\n",
       "      <td>0</td>\n",
       "      <td>Bottoms</td>\n",
       "      <td>Pants</td>\n",
       "    </tr>\n",
       "    <tr>\n",
       "      <th>4</th>\n",
       "      <td>47</td>\n",
       "      <td>Flattering shirt</td>\n",
       "      <td>This shirt is very flattering to all due to th...</td>\n",
       "      <td>5</td>\n",
       "      <td>1</td>\n",
       "      <td>6</td>\n",
       "      <td>Tops</td>\n",
       "      <td>Blouses</td>\n",
       "    </tr>\n",
       "  </tbody>\n",
       "</table>\n",
       "</div>"
      ],
      "text/plain": [
       "   Age                    Title  \\\n",
       "0   33                      NaN   \n",
       "1   34                      NaN   \n",
       "2   60  Some major design flaws   \n",
       "3   50         My favorite buy!   \n",
       "4   47         Flattering shirt   \n",
       "\n",
       "                                         Review Text  Rating  Recommended IND  \\\n",
       "0  Absolutely wonderful - silky and sexy and comf...       4                1   \n",
       "1  Love this dress!  it's sooo pretty.  i happene...       5                1   \n",
       "2  I had such high hopes for this dress and reall...       3                0   \n",
       "3  I love, love, love this jumpsuit. it's fun, fl...       5                1   \n",
       "4  This shirt is very flattering to all due to th...       5                1   \n",
       "\n",
       "   Positive Feedback Count Department Name Class Name  \n",
       "0                        0        Intimate  Intimates  \n",
       "1                        4         Dresses    Dresses  \n",
       "2                        0         Dresses    Dresses  \n",
       "3                        0         Bottoms      Pants  \n",
       "4                        6            Tops    Blouses  "
      ]
     },
     "execution_count": 2,
     "metadata": {},
     "output_type": "execute_result"
    }
   ],
   "source": [
    "df = pd.read_csv(\"ClothingReviews.csv\")\n",
    "df.head()"
   ]
  },
  {
   "cell_type": "code",
   "execution_count": 3,
   "id": "953badc4",
   "metadata": {},
   "outputs": [],
   "source": [
    "# add a column for positive or negative\n",
    "df['Target'] = df['Rating'].apply(lambda c: 0 if c < 4 else 1)"
   ]
  },
  {
   "cell_type": "markdown",
   "id": "stable-senator",
   "metadata": {},
   "source": [
    "## Data Cleaning"
   ]
  },
  {
   "cell_type": "code",
   "execution_count": 4,
   "id": "higher-forge",
   "metadata": {},
   "outputs": [
    {
     "name": "stdout",
     "output_type": "stream",
     "text": [
      "<class 'pandas.core.frame.DataFrame'>\n",
      "RangeIndex: 23486 entries, 0 to 23485\n",
      "Data columns (total 9 columns):\n",
      " #   Column                   Non-Null Count  Dtype \n",
      "---  ------                   --------------  ----- \n",
      " 0   Age                      23486 non-null  int64 \n",
      " 1   Title                    19676 non-null  object\n",
      " 2   Review Text              22641 non-null  object\n",
      " 3   Rating                   23486 non-null  int64 \n",
      " 4   Recommended IND          23486 non-null  int64 \n",
      " 5   Positive Feedback Count  23486 non-null  int64 \n",
      " 6   Department Name          23472 non-null  object\n",
      " 7   Class Name               23472 non-null  object\n",
      " 8   Target                   23486 non-null  int64 \n",
      "dtypes: int64(5), object(4)\n",
      "memory usage: 1.6+ MB\n"
     ]
    }
   ],
   "source": [
    "df.info()"
   ]
  },
  {
   "cell_type": "code",
   "execution_count": 5,
   "id": "auburn-yugoslavia",
   "metadata": {},
   "outputs": [
    {
     "data": {
      "text/plain": [
       "(23486, 9)"
      ]
     },
     "execution_count": 5,
     "metadata": {},
     "output_type": "execute_result"
    }
   ],
   "source": [
    "df.shape"
   ]
  },
  {
   "cell_type": "markdown",
   "id": "hired-intervention",
   "metadata": {},
   "source": [
    "### Null Values\n",
    "\n",
    "Nulll values are generally not desireable in a dataset.  In certain cases, observations (rows) with low counts will simply be dropped, in other cases, they can be filled with other values."
   ]
  },
  {
   "cell_type": "code",
   "execution_count": 6,
   "id": "thirty-theta",
   "metadata": {
    "tags": []
   },
   "outputs": [],
   "source": [
    "# fill the NA values with empty string so that we don't drop rows that are only missing a title\n",
    "df['Title'].fillna('', inplace=True)"
   ]
  },
  {
   "cell_type": "code",
   "execution_count": 7,
   "id": "eleven-piece",
   "metadata": {},
   "outputs": [
    {
     "data": {
      "text/plain": [
       "Age                          0\n",
       "Title                        0\n",
       "Review Text                845\n",
       "Rating                       0\n",
       "Recommended IND              0\n",
       "Positive Feedback Count      0\n",
       "Department Name             14\n",
       "Class Name                  14\n",
       "Target                       0\n",
       "dtype: int64"
      ]
     },
     "execution_count": 7,
     "metadata": {},
     "output_type": "execute_result"
    }
   ],
   "source": [
    "# count of nulls\n",
    "df.isnull().sum()"
   ]
  },
  {
   "cell_type": "code",
   "execution_count": 8,
   "id": "neutral-anatomy",
   "metadata": {},
   "outputs": [],
   "source": [
    "df.dropna(inplace=True)"
   ]
  },
  {
   "cell_type": "code",
   "execution_count": 9,
   "id": "experienced-journal",
   "metadata": {},
   "outputs": [],
   "source": [
    "df['Text'] = df['Title'] + ' ' + df['Review Text']"
   ]
  },
  {
   "cell_type": "code",
   "execution_count": 10,
   "id": "d75ae2c7",
   "metadata": {},
   "outputs": [],
   "source": [
    "# Add column 'text_len' that counts the length for the derived field\n",
    "df['text_len'] = df.apply(lambda row: len(row['Text']), axis = 1)"
   ]
  },
  {
   "cell_type": "code",
   "execution_count": 11,
   "id": "parliamentary-moore",
   "metadata": {},
   "outputs": [],
   "source": [
    "df.drop(columns=['Title', 'Review Text'], inplace=True)"
   ]
  },
  {
   "cell_type": "markdown",
   "id": "sexual-eleven",
   "metadata": {},
   "source": [
    "### Duplicates\n",
    "\n",
    "A common practice is to review any duplicates.  If there are large quantities, they can skew the results."
   ]
  },
  {
   "cell_type": "code",
   "execution_count": 12,
   "id": "specific-fiction",
   "metadata": {},
   "outputs": [
    {
     "name": "stdout",
     "output_type": "stream",
     "text": [
      "Before = 22628\n",
      "After = 22626\n",
      "\n",
      "Total Removed = 2\n"
     ]
    }
   ],
   "source": [
    "len_before = df.shape[0]\n",
    "df.drop_duplicates(inplace=True)\n",
    "len_after = df.shape[0]\n",
    "\n",
    "print(\"Before =\", len_before)\n",
    "# drop duplicates\n",
    "print(\"After =\", len_after)\n",
    "print('')\n",
    "print(\"Total Removed =\", len_before - len_after)"
   ]
  },
  {
   "cell_type": "markdown",
   "id": "guilty-native",
   "metadata": {},
   "source": [
    "## Check for Imbalanced Data"
   ]
  },
  {
   "cell_type": "code",
   "execution_count": 13,
   "id": "ffbb5f32",
   "metadata": {},
   "outputs": [
    {
     "data": {
      "text/plain": [
       "1    17433\n",
       "0     5193\n",
       "Name: Target, dtype: int64"
      ]
     },
     "execution_count": 13,
     "metadata": {},
     "output_type": "execute_result"
    }
   ],
   "source": [
    "df['Target'].value_counts()"
   ]
  },
  {
   "cell_type": "markdown",
   "id": "stock-crystal",
   "metadata": {},
   "source": [
    "## Text Cleaning\n",
    "\n",
    "For **Parts** of our analysis, the text needs to have some basic transformation for our models to work propertly.  These are as follows:\n",
    "\n",
    "1. **Lower**: Convert all characters to lowercase\n",
    "1. **Remove Punctuation**: In most cases, punctuation doesn't help NLP and ML models and can be removed.\n",
    "1. **Stop Word Removal**: Stop words generally don't add context to analysis (unless the length of text is very short (`100` - `200` characters) and can be removed.\n",
    "1. **Lemmatization**: Words will be reduced to there *Lemma* or root.  This will greatly improve the accuracy of the analysis since words like `simming` and `swimmer` will be reduced to `swim`.\n",
    "\n",
    "**Note**: The orginal text will be preserved for other analysis."
   ]
  },
  {
   "cell_type": "code",
   "execution_count": 14,
   "id": "intense-bolivia",
   "metadata": {},
   "outputs": [
    {
     "data": {
      "text/plain": [
       "' Love this dress!  it\\'s sooo pretty.  i happened to find it in a store, and i\\'m glad i did bc i never would have ordered it online bc it\\'s petite.  i bought a petite and am 5\\'8\".  i love the length on me- hits just a little below the knee.  would definitely be a true midi on someone who is truly petite.'"
      ]
     },
     "execution_count": 14,
     "metadata": {},
     "output_type": "execute_result"
    }
   ],
   "source": [
    "df['Text'][1]"
   ]
  },
  {
   "cell_type": "code",
   "execution_count": 15,
   "id": "dietary-period",
   "metadata": {},
   "outputs": [],
   "source": [
    "def process_string(text):\n",
    "    \n",
    "    final_string = \"\"\n",
    "    \n",
    "    # Convert the text to lowercase\n",
    "    text = text.lower()\n",
    "    \n",
    "    # Remove punctionation\n",
    "    translator = str.maketrans('', '', string.punctuation)\n",
    "    text = text.translate(translator)\n",
    "\n",
    "    # Remove stop words and usless words\n",
    "    text = text.split()\n",
    "    useless_words = nltk.corpus.stopwords.words(\"english\")\n",
    "    text_filtered = [word for word in text if not word in useless_words]\n",
    "\n",
    "    # Remove numbers\n",
    "    text_filtered = [re.sub('\\w*\\d\\w*', '', w) for w in text_filtered]\n",
    "    \n",
    "    # Stem the text with NLTK PorterStemmer\n",
    "    stemmer = PorterStemmer() \n",
    "    text_stemmed = [stemmer.stem(y) for y in text_filtered]\n",
    "\n",
    "    # Join the words back into a string\n",
    "    final_string = ' '.join(text_stemmed)\n",
    "    \n",
    "    return final_string"
   ]
  },
  {
   "cell_type": "code",
   "execution_count": 16,
   "id": "seeing-kennedy",
   "metadata": {},
   "outputs": [],
   "source": [
    "df['Text_Processed'] = df['Text'].apply(lambda x: process_string(x))"
   ]
  },
  {
   "cell_type": "code",
   "execution_count": 17,
   "id": "global-qualification",
   "metadata": {},
   "outputs": [
    {
     "data": {
      "text/plain": [
       "'love dress sooo pretti happen find store im glad bc never would order onlin bc petit bought petit  love length hit littl knee would definit true midi someon truli petit'"
      ]
     },
     "execution_count": 17,
     "metadata": {},
     "output_type": "execute_result"
    }
   ],
   "source": [
    "df['Text_Processed'][1]"
   ]
  },
  {
   "cell_type": "markdown",
   "id": "aging-absence",
   "metadata": {},
   "source": [
    "# Sentiment Based Prediction Model:\n",
    "\n",
    "Next, we'll create a Supervised ML model to predict whether a customer will recommend a product based on the text from the review and the sentiment of that text, and the length of the review.\n",
    "\n",
    "To create our model, we will be mixing both text and numeric values.  There are multiple ways to accomplish this, but we will be using a `ColumnTransformer` in a Pipeline."
   ]
  },
  {
   "cell_type": "markdown",
   "id": "fed4fefd",
   "metadata": {},
   "source": [
    "## Pipeline Building"
   ]
  },
  {
   "cell_type": "code",
   "execution_count": 18,
   "id": "incident-holiday",
   "metadata": {},
   "outputs": [],
   "source": [
    "def create_pipe(clf):\n",
    "    '''Create a pipeline for a given classifier.  The classifier needs to be an instance\n",
    "    of the classifier with all parmeters needed specified.'''\n",
    "    \n",
    "    # Each pipeline uses the same column transformer.  \n",
    "    column_trans = ColumnTransformer(\n",
    "            [('Text', TfidfVectorizer(), 'Text_Processed'),\n",
    "             ('Text Length', MinMaxScaler(), ['text_len'])],\n",
    "            remainder='drop') \n",
    "    \n",
    "    pipeline = Pipeline([('prep',column_trans),\n",
    "                         ('clf', clf)])\n",
    "     \n",
    "    return pipeline"
   ]
  },
  {
   "cell_type": "markdown",
   "id": "another-darwin",
   "metadata": {},
   "source": [
    "## Model Selection via Cross-Validation"
   ]
  },
  {
   "cell_type": "code",
   "execution_count": 19,
   "id": "legendary-parcel",
   "metadata": {},
   "outputs": [],
   "source": [
    "X = df[['Text_Processed', 'text_len']]\n",
    "y = df['Target']"
   ]
  },
  {
   "cell_type": "code",
   "execution_count": 20,
   "id": "disciplinary-detector",
   "metadata": {},
   "outputs": [
    {
     "name": "stdout",
     "output_type": "stream",
     "text": [
      "(22626, 2)\n",
      "(22626,)\n"
     ]
    }
   ],
   "source": [
    "print(X.shape)\n",
    "print(y.shape)"
   ]
  },
  {
   "cell_type": "code",
   "execution_count": 21,
   "id": "90ca5c9e",
   "metadata": {},
   "outputs": [
    {
     "name": "stdout",
     "output_type": "stream",
     "text": [
      "Estimate: 0.298\n"
     ]
    }
   ],
   "source": [
    "# count examples in each class\n",
    "counter = Counter(y)\n",
    "# estimate scale_pos_weight value\n",
    "estimate = counter[0] / counter[1]\n",
    "print('Estimate: %.3f' % estimate)"
   ]
  },
  {
   "cell_type": "code",
   "execution_count": 22,
   "id": "apparent-silly",
   "metadata": {},
   "outputs": [
    {
     "name": "stdout",
     "output_type": "stream",
     "text": [
      "CPU times: user 20.9 s, sys: 6.31 s, total: 27.2 s\n",
      "Wall time: 15.6 s\n",
      "LogReg : Mean f1 Weighted: 0.878 and Standard Deviation: (0.005)\n",
      "CPU times: user 3min 4s, sys: 3.2 s, total: 3min 8s\n",
      "Wall time: 3min 8s\n",
      "RandomForest : Mean f1 Weighted: 0.824 and Standard Deviation: (0.008)\n",
      "CPU times: user 8min 27s, sys: 1min 15s, total: 9min 42s\n",
      "Wall time: 1min 57s\n",
      "XGBoost : Mean f1 Weighted: 0.867 and Standard Deviation: (0.006)\n"
     ]
    }
   ],
   "source": [
    "models = {'LogReg' : LogisticReg ression(random_state=42, \n",
    "                                        class_weight='balanced', \n",
    "                                        max_iter=500),\n",
    "          'RandomForest' : RandomForestClassifier(\n",
    "                                        class_weight='balanced', \n",
    "                                        random_state=42),\n",
    "          'XGBoost' : xgb.XGBClassifier(random_state=42, \n",
    "                                        verbosity=0, \n",
    "                                        scale_pos_weight=estimate)\n",
    "          }\n",
    "\n",
    "for name, model, in models.items():\n",
    "    clf = model\n",
    "    pipeline = create_pipe(clf)\n",
    "    cv = RepeatedStratifiedKFold(n_splits=10, \n",
    "                                 n_repeats=3, \n",
    "                                 random_state=1)\n",
    "    %time scores = cross_val_score(pipeline, X, y, scoring='f1_weighted', cv=cv, n_jobs=1, error_score='raise')\n",
    "    print(name, ': Mean f1 Weighted: %.3f and Standard Deviation: (%.3f)' % \\\n",
    "        (np.mean(scores), np.std(scores)))"
   ]
  },
  {
   "cell_type": "markdown",
   "id": "average-devon",
   "metadata": {},
   "source": [
    "## Model Training"
   ]
  },
  {
   "cell_type": "code",
   "execution_count": 23,
   "id": "lined-fluid",
   "metadata": {},
   "outputs": [],
   "source": [
    "# Make training and test sets \n",
    "X_train, X_test, y_train, y_test = train_test_split(X, \n",
    "                                                    y, \n",
    "                                                    test_size=0.33, \n",
    "                                                    random_state=53)"
   ]
  },
  {
   "cell_type": "code",
   "execution_count": 24,
   "id": "satellite-strip",
   "metadata": {},
   "outputs": [
    {
     "name": "stdout",
     "output_type": "stream",
     "text": [
      "1    11681\n",
      "0     3478\n",
      "Name: Target, dtype: int64\n",
      "1    5752\n",
      "0    1715\n",
      "Name: Target, dtype: int64\n"
     ]
    }
   ],
   "source": [
    "print(y_train.value_counts())\n",
    "print(y_test.value_counts())"
   ]
  },
  {
   "cell_type": "markdown",
   "id": "fossil-canberra",
   "metadata": {},
   "source": [
    "## Model Validation"
   ]
  },
  {
   "cell_type": "code",
   "execution_count": 25,
   "id": "delayed-claim",
   "metadata": {},
   "outputs": [],
   "source": [
    "def fit_and_print(pipeline, name):\n",
    "    ''' take a supplied pipeline and run it against the train-test spit \n",
    "    and product scoring results.'''\n",
    "    \n",
    "    pipeline.fit(X_train, y_train)\n",
    "    y_pred = pipeline.predict(X_test)\n",
    "\n",
    "    print(metrics.classification_report(y_test, y_pred, digits=3))\n",
    "    \n",
    "    print(\"Matthew's correlation coefficient (MCC)\")\n",
    "    print(metrics.matthews_corrcoef(y_test, y_pred))\n",
    "    \n",
    "    print(\"Brier Score Loss\")\n",
    "    print(metrics.brier_score_loss(y_test, y_pred))\n",
    "        \n",
    "    ConfusionMatrixDisplay.from_predictions(y_test, \n",
    "                                            y_pred, \n",
    "                                            cmap=plt.cm.YlOrBr)\n",
    "\n",
    "    plt.tight_layout()\n",
    "    plt.ylabel('True label')\n",
    "    plt.xlabel('Predicted Label')\n",
    "    plt.tight_layout()\n",
    "    plt.savefig('classification_' + name + '.png', dpi=300)  "
   ]
  },
  {
   "cell_type": "code",
   "execution_count": 26,
   "id": "younger-shirt",
   "metadata": {},
   "outputs": [
    {
     "name": "stdout",
     "output_type": "stream",
     "text": [
      "              precision    recall  f1-score   support\n",
      "\n",
      "           0      0.681     0.855     0.758      1715\n",
      "           1      0.953     0.881     0.915      5752\n",
      "\n",
      "    accuracy                          0.875      7467\n",
      "   macro avg      0.817     0.868     0.837      7467\n",
      "weighted avg      0.891     0.875     0.879      7467\n",
      "\n",
      "Matthew's correlation coefficient (MCC)\n",
      "0.68283669338406\n",
      "Brier Score Loss\n",
      "0.12535154680594615\n"
     ]
    },
    {
     "data": {
      "image/png": "[encoded data removed]",
      "text/plain": [
       "<Figure size 432x288 with 2 Axes>"
      ]
     },
     "metadata": {
      "needs_background": "light"
     },
     "output_type": "display_data"
    }
   ],
   "source": [
    "clf = LogisticRegression(random_state=42, \n",
    "                         class_weight='balanced', \n",
    "                         max_iter=500)\n",
    "pipeline = create_pipe(clf)\n",
    "fit_and_print(pipeline, 'LogReg')"
   ]
  },
  {
   "cell_type": "code",
   "execution_count": 27,
   "id": "df2f7c07",
   "metadata": {},
   "outputs": [
    {
     "name": "stdout",
     "output_type": "stream",
     "text": [
      "              precision    recall  f1-score   support\n",
      "\n",
      "           0      0.887     0.394     0.545      1715\n",
      "           1      0.845     0.985     0.910      5752\n",
      "\n",
      "    accuracy                          0.849      7467\n",
      "   macro avg      0.866     0.689     0.727      7467\n",
      "weighted avg      0.855     0.849     0.826      7467\n",
      "\n",
      "Matthew's correlation coefficient (MCC)\n",
      "0.5264265598029625\n",
      "Brier Score Loss\n",
      "0.1507968394268113\n"
     ]
    },
    {
     "data": {
      "image/png": "[encoded data removed]",
      "text/plain": [
       "<Figure size 432x288 with 2 Axes>"
      ]
     },
     "metadata": {
      "needs_background": "light"
     },
     "output_type": "display_data"
    }
   ],
   "source": [
    "clf = RandomForestClassifier(random_state=42, class_weight='balanced')\n",
    "pipeline = create_pipe(clf)\n",
    "fit_and_print(pipeline, 'RF')"
   ]
  },
  {
   "cell_type": "markdown",
   "id": "243ce5a0",
   "metadata": {},
   "source": [
    "Matthew’s correlation coefficient (MCC)\n",
    "\n",
    ">“The Matthews correlation coefficient is used in machine learning as a measure of the quality of binary (two-class) classifications. It takes into account true and false positives and negatives and is generally regarded as a balanced measure which can be used even if the classes are of very different sizes. The MCC is in essence a correlation coefficient value between -1 and +1. A coefficient of +1 represents a perfect prediction, 0 an average random prediction and -1 an inverse prediction. The statistic is also known as the phi coefficient.”\n",
    "\n",
    "https://towardsdatascience.com/evaluation-metrics-leave-your-comfort-zone-and-try-mcc-and-brier-score-86307fb1236a"
   ]
  },
  {
   "cell_type": "markdown",
   "id": "876f4b1d",
   "metadata": {},
   "source": [
    "## Persist the Model"
   ]
  },
  {
   "cell_type": "code",
   "execution_count": 28,
   "id": "ba6627f8",
   "metadata": {},
   "outputs": [
    {
     "data": {
      "text/plain": [
       "['binary.joblib']"
      ]
     },
     "execution_count": 28,
     "metadata": {},
     "output_type": "execute_result"
    }
   ],
   "source": [
    "dump(pipeline, 'binary.joblib') "
   ]
  },
  {
   "cell_type": "markdown",
   "id": "rubber-whole",
   "metadata": {},
   "source": [
    "## Test on Custom Data"
   ]
  },
  {
   "cell_type": "code",
   "execution_count": 29,
   "id": "1d60bd58",
   "metadata": {},
   "outputs": [],
   "source": [
    "# Load the model\n",
    "pipeline = load('binary.joblib')"
   ]
  },
  {
   "cell_type": "code",
   "execution_count": 30,
   "id": "informed-tuner",
   "metadata": {},
   "outputs": [],
   "source": [
    "def create_test_data(x):\n",
    "    \n",
    "    x = process_string(x)\n",
    "    length = len(x)\n",
    "    \n",
    "    d = {'Text_Processed' : x,\n",
    "        'text_len' : length}\n",
    "\n",
    "    df = pd.DataFrame(d, index=[0])\n",
    "    \n",
    "    return df"
   ]
  },
  {
   "cell_type": "code",
   "execution_count": 31,
   "id": "negative-humidity",
   "metadata": {},
   "outputs": [],
   "source": [
    "revs = ['This dress is gorgeous and I love it and would gladly reccomend it to all of my friends.',\n",
    "        'This skirt has really horible quality and I hate it!',\n",
    "        'A super cute top with the perfect fit.',\n",
    "        'The most gorgeous pair of jeans I have seen.',\n",
    "        'this item is too little and tight.']"
   ]
  },
  {
   "cell_type": "code",
   "execution_count": 32,
   "id": "blank-ready",
   "metadata": {},
   "outputs": [
    {
     "name": "stdout",
     "output_type": "stream",
     "text": [
      "Returns 1 for Positive reviews and 0 for Negative reviews: \n",
      "\n",
      "This dress is gorgeous and I love it and would gladly reccomend it to all of my friends. = [1]\n",
      "This skirt has really horible quality and I hate it! = [1]\n",
      "A super cute top with the perfect fit. = [1]\n",
      "The most gorgeous pair of jeans I have seen. = [1]\n",
      "this item is too little and tight. = [1]\n"
     ]
    }
   ],
   "source": [
    "print('Returns 1 for Positive reviews and 0 for Negative reviews:','\\n')\n",
    "for rev in revs:\n",
    "    c_res = pipeline.predict(create_test_data(rev))\n",
    "    print(rev, '=', c_res)"
   ]
  },
  {
   "cell_type": "markdown",
   "id": "caring-delivery",
   "metadata": {},
   "source": [
    "## Multi-Class Classification\n",
    "\n",
    "Next, we'll attempt to create a Supervised Machine Learning model to classify products by Department.  This process looks at the text that a user wrote in a review and determined its Department.\n",
    "\n",
    "An interesting opportunity is to use this information to **cross-sell** or **cross-list** products.  If there is a strong enough probability that an item could be in multiple departments from our analysis, could we **increase sales** with cross-marketing?"
   ]
  },
  {
   "cell_type": "code",
   "execution_count": 33,
   "id": "overhead-ordinary",
   "metadata": {},
   "outputs": [],
   "source": [
    "# Tokenize the words\n",
    "df['Department Name'] = df['Department Name'].apply(word_tokenize)"
   ]
  },
  {
   "cell_type": "code",
   "execution_count": 34,
   "id": "broad-information",
   "metadata": {},
   "outputs": [],
   "source": [
    "X = df[['Text_Processed', 'Department Name']]\n",
    "y = df['Department Name']"
   ]
  },
  {
   "cell_type": "code",
   "execution_count": 35,
   "id": "convenient-significance",
   "metadata": {},
   "outputs": [],
   "source": [
    "mlb = MultiLabelBinarizer()\n",
    "y = mlb.fit_transform(y)"
   ]
  },
  {
   "cell_type": "code",
   "execution_count": 36,
   "id": "controlling-headquarters",
   "metadata": {},
   "outputs": [
    {
     "name": "stdout",
     "output_type": "stream",
     "text": [
      "['Bottoms' 'Dresses' 'Intimate' 'Jackets' 'Tops' 'Trend']\n"
     ]
    }
   ],
   "source": [
    "print(mlb.classes_)"
   ]
  },
  {
   "cell_type": "code",
   "execution_count": 37,
   "id": "indirect-exclusion",
   "metadata": {},
   "outputs": [],
   "source": [
    "def create_pipe(clf):\n",
    "    \n",
    "    # Create the column transfomer\n",
    "    column_trans = ColumnTransformer(\n",
    "            [('Text', TfidfVectorizer(stop_words='english'), 'Text_Processed')],\n",
    "            remainder='drop') \n",
    "    \n",
    "    # Build the pipeline\n",
    "    pipeline = Pipeline([('prep',column_trans),\n",
    "                         ('over', SMOTE(random_state=42)),\n",
    "                         ('under', RandomUnderSampler(random_state=42)), \n",
    "                         ('clf', clf)])\n",
    "     \n",
    "    return pipeline"
   ]
  },
  {
   "cell_type": "code",
   "execution_count": 38,
   "id": "stuffed-assessment",
   "metadata": {},
   "outputs": [
    {
     "name": "stdout",
     "output_type": "stream",
     "text": [
      "CPU times: user 11.4 s, sys: 3.2 s, total: 14.6 s\n",
      "Wall time: 10.1 s\n",
      "Logistic Regression : Mean f1 Macro: 0.575 and Standard Deviation: (0.012)\n",
      "CPU times: user 3min 3s, sys: 3.3 s, total: 3min 7s\n",
      "Wall time: 3min 7s\n",
      "Random Forest : Mean f1 Macro: 0.412 and Standard Deviation: (0.006)\n",
      "CPU times: user 10min 45s, sys: 1min 4s, total: 11min 49s\n",
      "Wall time: 1min 58s\n",
      "XGB : Mean f1 Macro: 0.598 and Standard Deviation: (0.012)\n"
     ]
    }
   ],
   "source": [
    "models = {'Logistic Regression' : OneVsRestClassifier(LogisticRegression(max_iter=500, random_state=42)),\n",
    "          'Random Forest' : OneVsRestClassifier(RandomForestClassifier(random_state=42)),\n",
    "          'XGB' : OneVsRestClassifier(xgb.XGBClassifier(random_state=42, verbosity=0))\n",
    "          }\n",
    "\n",
    "for name, model, in models.items():\n",
    "    clf = model\n",
    "    pipeline = create_pipe(clf)\n",
    "    %time scores = cross_val_score(pipeline, X, y, scoring='f1_macro', cv=3, n_jobs=1, error_score='raise')\n",
    "    print(name, ': Mean f1 Macro: %.3f and Standard Deviation: (%.3f)' % (np.mean(scores), np.std(scores)))"
   ]
  },
  {
   "cell_type": "markdown",
   "id": "musical-contrast",
   "metadata": {},
   "source": [
    "## Model Building & Validation"
   ]
  },
  {
   "cell_type": "code",
   "execution_count": 39,
   "id": "eight-insider",
   "metadata": {},
   "outputs": [],
   "source": [
    "# Make training and test sets \n",
    "X_train, X_test, y_train, y_test = train_test_split(X, \n",
    "                                                    y, \n",
    "                                                    test_size=0.33, \n",
    "                                                    random_state=1)"
   ]
  },
  {
   "cell_type": "code",
   "execution_count": 40,
   "id": "suited-phone",
   "metadata": {},
   "outputs": [
    {
     "name": "stdout",
     "output_type": "stream",
     "text": [
      "(15159, 6)\n",
      "(15159, 2)\n",
      "(7467, 2)\n",
      "(7467, 6)\n"
     ]
    }
   ],
   "source": [
    "print(y_train.shape)\n",
    "print(X_train.shape)\n",
    "print(X_test.shape)\n",
    "print(y_test.shape)"
   ]
  },
  {
   "cell_type": "code",
   "execution_count": 41,
   "id": "swiss-indianapolis",
   "metadata": {},
   "outputs": [
    {
     "name": "stdout",
     "output_type": "stream",
     "text": [
      "              precision    recall  f1-score   support\n",
      "\n",
      "           0      0.861     0.722     0.785      1175\n",
      "           1      0.909     0.864     0.886      2068\n",
      "           2      0.705     0.394     0.506       523\n",
      "           3      0.661     0.626     0.644       340\n",
      "           4      0.839     0.839     0.839      3323\n",
      "           5      0.000     0.000     0.000        38\n",
      "\n",
      "   micro avg      0.848     0.782     0.814      7467\n",
      "   macro avg      0.663     0.574     0.610      7467\n",
      "weighted avg      0.840     0.782     0.807      7467\n",
      " samples avg      0.768     0.782     0.773      7467\n",
      "\n"
     ]
    }
   ],
   "source": [
    "# Note: Optimization was performed prior to Hyperparemeter selection\n",
    "clf = OneVsRestClassifier(xgb.XGBClassifier(random_state=42, verbosity=0))\n",
    "pipeline = create_pipe(clf)\n",
    "\n",
    "pipeline.fit(X_train, y_train)\n",
    "y_pred = pipeline.predict(X_test)\n",
    "score = metrics.f1_score(y_test, y_pred, average='macro', zero_division=0)\n",
    "\n",
    "print(metrics.classification_report(y_test, y_pred, digits=3, zero_division=0))"
   ]
  },
  {
   "cell_type": "code",
   "execution_count": 42,
   "id": "endless-publisher",
   "metadata": {},
   "outputs": [],
   "source": [
    "# Retreive the text lables from the MultiLabelBinarizer\n",
    "pred_labels = mlb.inverse_transform(y_pred)\n",
    "\n",
    "# Append them to the DataFrame\n",
    "X_test['Predicted Labels'] = pred_labels"
   ]
  },
  {
   "cell_type": "code",
   "execution_count": 43,
   "id": "pointed-singing",
   "metadata": {},
   "outputs": [
    {
     "data": {
      "text/html": [
       "<div>\n",
       "<style scoped>\n",
       "    .dataframe tbody tr th:only-of-type {\n",
       "        vertical-align: middle;\n",
       "    }\n",
       "\n",
       "    .dataframe tbody tr th {\n",
       "        vertical-align: top;\n",
       "    }\n",
       "\n",
       "    .dataframe thead th {\n",
       "        text-align: right;\n",
       "    }\n",
       "</style>\n",
       "<table border=\"1\" class=\"dataframe\">\n",
       "  <thead>\n",
       "    <tr style=\"text-align: right;\">\n",
       "      <th></th>\n",
       "      <th>Text_Processed</th>\n",
       "      <th>Department Name</th>\n",
       "      <th>Predicted Labels</th>\n",
       "    </tr>\n",
       "  </thead>\n",
       "  <tbody>\n",
       "    <tr>\n",
       "      <th>18468</th>\n",
       "      <td>pretti love shirt exteem comfort simpl nice</td>\n",
       "      <td>[Tops]</td>\n",
       "      <td>(Tops,)</td>\n",
       "    </tr>\n",
       "    <tr>\n",
       "      <th>4989</th>\n",
       "      <td>love dress gorgeou hanger even gorgeou definit run big though size probabl best</td>\n",
       "      <td>[Dresses]</td>\n",
       "      <td>(Dresses,)</td>\n",
       "    </tr>\n",
       "    <tr>\n",
       "      <th>6930</th>\n",
       "      <td>uniqu white top although kind ran big materi stiff caus protrus shoulder decid keep uniqu still look cute</td>\n",
       "      <td>[Tops]</td>\n",
       "      <td>(Tops,)</td>\n",
       "    </tr>\n",
       "    <tr>\n",
       "      <th>6789</th>\n",
       "      <td>great dress hard time find comfi dress appropri long  year old daughter purchas tunic regular xs love wore today sued bootiesveri soft cute longer mani dress sold teen initi thought winter sweater dress explain mostli cotton would great transit piec spring fall</td>\n",
       "      <td>[Tops]</td>\n",
       "      <td>(Dresses,)</td>\n",
       "    </tr>\n",
       "    <tr>\n",
       "      <th>6962</th>\n",
       "      <td>size saw top onlin read review run small normal xx retail cloth   refer found store took xs small tri review right tri xs first quit snug short small fit perfectli bit longer great style soft fabric size youll love</td>\n",
       "      <td>[Tops]</td>\n",
       "      <td>(Tops,)</td>\n",
       "    </tr>\n",
       "    <tr>\n",
       "      <th>21011</th>\n",
       "      <td>nice sweater sweater run larg long arm  often wear petit pant top medium petit perfect sweater beauti open gaug knit great fallwint work tank nice pant blue color mint greenblu pretti differ anyth closet great addit</td>\n",
       "      <td>[Tops]</td>\n",
       "      <td>(Tops,)</td>\n",
       "    </tr>\n",
       "    <tr>\n",
       "      <th>12242</th>\n",
       "      <td>disappoint want love dress order  percent special couldnt wait get color depict dress fit true size also like wasnt short didnt like dress line white plainli see pictur didnt notic order think would much prettier line black im disappoint dress go back</td>\n",
       "      <td>[Dresses]</td>\n",
       "      <td>(Dresses,)</td>\n",
       "    </tr>\n",
       "    <tr>\n",
       "      <th>18801</th>\n",
       "      <td>purchas blue motif love hei hei silki pull pant got hook last summer thrill see upcom spring run true size beyond comfort wear well everyon least one pair comfi pant closet dress wear offic versatil comfort could ask</td>\n",
       "      <td>[Bottoms]</td>\n",
       "      <td>(Bottoms,)</td>\n",
       "    </tr>\n",
       "    <tr>\n",
       "      <th>15304</th>\n",
       "      <td>first thank retail put itchi wool fur soft gorgeou bia super flatter us less perfect bodi refer im     size xss perfect</td>\n",
       "      <td>[Tops]</td>\n",
       "      <td>(Tops,)</td>\n",
       "    </tr>\n",
       "    <tr>\n",
       "      <th>3525</th>\n",
       "      <td>bare cover bum tunic unless model pictur  bare cover backsid advertis design top interest fabric soft good buy</td>\n",
       "      <td>[Tops]</td>\n",
       "      <td>(Tops,)</td>\n",
       "    </tr>\n",
       "  </tbody>\n",
       "</table>\n",
       "</div>"
      ],
      "text/plain": [
       "                                                                                                                                                                                                                                                              Text_Processed  \\\n",
       "18468                                                                                                                                                                                                                            pretti love shirt exteem comfort simpl nice   \n",
       "4989                                                                                                                                                                                         love dress gorgeou hanger even gorgeou definit run big though size probabl best   \n",
       "6930                                                                                                                                                               uniqu white top although kind ran big materi stiff caus protrus shoulder decid keep uniqu still look cute   \n",
       "6789   great dress hard time find comfi dress appropri long  year old daughter purchas tunic regular xs love wore today sued bootiesveri soft cute longer mani dress sold teen initi thought winter sweater dress explain mostli cotton would great transit piec spring fall   \n",
       "6962                                                  size saw top onlin read review run small normal xx retail cloth   refer found store took xs small tri review right tri xs first quit snug short small fit perfectli bit longer great style soft fabric size youll love   \n",
       "21011                                                nice sweater sweater run larg long arm  often wear petit pant top medium petit perfect sweater beauti open gaug knit great fallwint work tank nice pant blue color mint greenblu pretti differ anyth closet great addit   \n",
       "12242            disappoint want love dress order  percent special couldnt wait get color depict dress fit true size also like wasnt short didnt like dress line white plainli see pictur didnt notic order think would much prettier line black im disappoint dress go back   \n",
       "18801                                               purchas blue motif love hei hei silki pull pant got hook last summer thrill see upcom spring run true size beyond comfort wear well everyon least one pair comfi pant closet dress wear offic versatil comfort could ask   \n",
       "15304                                                                                                                                                first thank retail put itchi wool fur soft gorgeou bia super flatter us less perfect bodi refer im     size xss perfect   \n",
       "3525                                                                                                                                                         bare cover bum tunic unless model pictur  bare cover backsid advertis design top interest fabric soft good buy    \n",
       "\n",
       "      Department Name Predicted Labels  \n",
       "18468          [Tops]          (Tops,)  \n",
       "4989        [Dresses]       (Dresses,)  \n",
       "6930           [Tops]          (Tops,)  \n",
       "6789           [Tops]       (Dresses,)  \n",
       "6962           [Tops]          (Tops,)  \n",
       "21011          [Tops]          (Tops,)  \n",
       "12242       [Dresses]       (Dresses,)  \n",
       "18801       [Bottoms]       (Bottoms,)  \n",
       "15304          [Tops]          (Tops,)  \n",
       "3525           [Tops]          (Tops,)  "
      ]
     },
     "execution_count": 43,
     "metadata": {},
     "output_type": "execute_result"
    }
   ],
   "source": [
    "# Display a random sample of them\n",
    "pd.set_option('display.max_colwidth', None)\n",
    "X_test.sample(10, random_state=0)"
   ]
  },
  {
   "cell_type": "markdown",
   "id": "fantastic-ownership",
   "metadata": {},
   "source": [
    "**Observations:**\n",
    "\n",
    " - In many cases, our classifier was very accurate in determining the correct Department.  Since we used a multi-label classifier, the algorithm suggested more than one label in some cases.  Upon inspecting these, in some cases, the suggestion of an additional Department is incredibly logical.  \n",
    " - One item in the above list did not receive a predicted label.\n",
    " - Two are showing multiple classes, but in one of these cases, they make sense.  `Jackets` and `Tops`.  For the other, it's classifying it as `Intimate` and `Tops`, which probably would not apply.\n",
    " - There is one misclassified item.  The original class was `Trend`, and the predicted class is `Bottoms` for this skirt.  However, a skirt is a bottom and therefore is correct.  We also do not have many observations in the `Trend` class; therefore, it's harder to be accurate with predictions here, as we noted earlier.\n",
    " - It's possible to use these multi-label classes to investigate **cross-marketing / cross-listing** opportunities for these products.  "
   ]
  },
  {
   "cell_type": "markdown",
   "id": "84c9eeb6",
   "metadata": {},
   "source": [
    "## Persist the Model\n",
    "\n",
    "Saving both the pipeline as well as the `MultiLabelBinarizer`."
   ]
  },
  {
   "cell_type": "code",
   "execution_count": 44,
   "id": "502f4e86",
   "metadata": {},
   "outputs": [
    {
     "data": {
      "text/plain": [
       "['multiclass.joblib']"
      ]
     },
     "execution_count": 44,
     "metadata": {},
     "output_type": "execute_result"
    }
   ],
   "source": [
    "dump(mlb, 'mlb.joblib') \n",
    "dump(pipeline, 'multiclass.joblib') "
   ]
  },
  {
   "cell_type": "markdown",
   "id": "coated-database",
   "metadata": {},
   "source": [
    "## Test on New Data"
   ]
  },
  {
   "cell_type": "code",
   "execution_count": 45,
   "id": "recent-senator",
   "metadata": {},
   "outputs": [],
   "source": [
    "def create_test_data(x):\n",
    "    '''create a dataframe that is in the same format as the Train and Test Data.\n",
    "    ['Bottoms' 'Dresses' 'Intimate' 'Jackets' 'Tops' 'Trend']'''\n",
    "    \n",
    "    s = process_string(x[0])\n",
    "    \n",
    "    d = {'Text_Processed' : s,\n",
    "         'Department Name' : x[1]}\n",
    "\n",
    "    df = pd.DataFrame(d, index=[0])\n",
    "    \n",
    "    return df"
   ]
  },
  {
   "cell_type": "code",
   "execution_count": 46,
   "id": "animal-metropolitan",
   "metadata": {},
   "outputs": [],
   "source": [
    "revs = [('This dress is gorgeous and would gladly reccomend it to all of my friends.', ['Dresses']),\n",
    "     ('These pants have really horible quality and I hate them!', ['Bottoms']),\n",
    "     ('A super cute blouse with a great fit.', ['Tops']),\n",
    "     ('The most gorgeous pair of jeans I have seen.', ['Bottoms']),\n",
    "     ('This bra is silky smooth material and fits perfectly.', ['Intimate'])]"
   ]
  },
  {
   "cell_type": "code",
   "execution_count": 47,
   "id": "surprised-senate",
   "metadata": {
    "scrolled": true
   },
   "outputs": [
    {
     "name": "stdout",
     "output_type": "stream",
     "text": [
      "This dress is gorgeous and would gladly reccomend it to all of my friends. \n",
      " ['Dresses'] \n",
      " [('Dresses',)] \n",
      "\n",
      "These pants have really horible quality and I hate them! \n",
      " ['Bottoms'] \n",
      " [('Bottoms',)] \n",
      "\n",
      "A super cute blouse with a great fit. \n",
      " ['Tops'] \n",
      " [('Tops',)] \n",
      "\n",
      "The most gorgeous pair of jeans I have seen. \n",
      " ['Bottoms'] \n",
      " [('Bottoms',)] \n",
      "\n",
      "This bra is silky smooth material and fits perfectly. \n",
      " ['Intimate'] \n",
      " [()] \n",
      "\n"
     ]
    }
   ],
   "source": [
    "for rev in revs:\n",
    "    c_res = pipeline.predict(create_test_data(rev))\n",
    "    print(rev[0], '\\n', rev[1], '\\n' ,mlb.inverse_transform(c_res), '\\n')"
   ]
  },
  {
   "cell_type": "code",
   "execution_count": null,
   "id": "c989afad",
   "metadata": {},
   "outputs": [],
   "source": []
  },
  {
   "cell_type": "code",
   "execution_count": null,
   "id": "7ecc50f7",
   "metadata": {},
   "outputs": [],
   "source": []
  },
  {
   "cell_type": "code",
   "execution_count": null,
   "id": "72226195",
   "metadata": {},
   "outputs": [],
   "source": []
  }
 ],
 "metadata": {
  "kernelspec": {
   "display_name": "Python 3",
   "language": "python",
   "name": "python3"
  },
  "language_info": {
   "codemirror_mode": {
    "name": "ipython",
    "version": 3
   },
   "file_extension": ".py",
   "mimetype": "text/x-python",
   "name": "python",
   "nbconvert_exporter": "python",
   "pygments_lexer": "ipython3",
   "version": "3.9.10"
  },
  "toc-autonumbering": true,
  "toc-showcode": false,
  "toc-showmarkdowntxt": false,
  "toc-showtags": false
 },
 "nbformat": 4,
 "nbformat_minor": 5
}
